{
 "cells": [
  {
   "cell_type": "code",
   "execution_count": 3,
   "metadata": {},
   "outputs": [
    {
     "name": "stdout",
     "output_type": "stream",
     "text": [
      "('nha', 'nhaa', 'nhaaa')\n"
     ]
    }
   ],
   "source": [
    "minha_tupla = (\"nha\",\"nhaa\",\"nhaaa\")\n",
    "print(minha_tupla)\n"
   ]
  },
  {
   "cell_type": "code",
   "execution_count": 11,
   "metadata": {},
   "outputs": [
    {
     "name": "stdout",
     "output_type": "stream",
     "text": [
      "maior numero: 2\n",
      "menor numero: 20\n"
     ]
    }
   ],
   "source": [
    "tupla = (2, 4, 6, 8, 10, 12, 14, 16, 18, 20)\n",
    "print(f\"maior numero: {min(tupla)}\")\n",
    "print(f\"menor numero: {max(tupla)}\")\n"
   ]
  },
  {
   "cell_type": "code",
   "execution_count": null,
   "metadata": {},
   "outputs": [],
   "source": [
    "pares = {2, 4, 6, 8, 10}\n",
    "impares = {1, 3, 5, 7, 9}\n",
    "\n",
    "uniao = pares.union(impares)\n",
    "print(\"União:\", uniao)\n"
   ]
  }
 ],
 "metadata": {
  "kernelspec": {
   "display_name": "Python 3",
   "language": "python",
   "name": "python3"
  },
  "language_info": {
   "codemirror_mode": {
    "name": "ipython",
    "version": 3
   },
   "file_extension": ".py",
   "mimetype": "text/x-python",
   "name": "python",
   "nbconvert_exporter": "python",
   "pygments_lexer": "ipython3",
   "version": "3.13.2"
  }
 },
 "nbformat": 4,
 "nbformat_minor": 2
}
