{
 "cells": [
  {
   "cell_type": "code",
   "execution_count": null,
   "metadata": {},
   "outputs": [
    {
     "name": "stdout",
     "output_type": "stream",
     "text": [
      "1.9\n",
      "80.0\n",
      "22.1606648199446\n"
     ]
    }
   ],
   "source": [
    "altura = float(input(\"Digite sua altura: \"))\n",
    "print(altura)\n",
    "\n",
    "peso = float(input(\"Digite seu peso: \"))\n",
    "print(peso)\n",
    "\n",
    "# --- IMC = peso/altura**2\n",
    "\n",
    "imc = peso/altura**2\n",
    "print(imc)\n",
    "\n",
    "# --------------------\n",
    "\n",
    "texto = 'ola mundo'\n",
    "texto_dois = \"ola mundo\"\n",
    "inteiro = - 10\n",
    "racionais = 3.12345\n",
    "booleano = True | False\n",
    "\n",
    "# --------------------\n",
    "\n"
   ]
  }
 ],
 "metadata": {
  "kernelspec": {
   "display_name": "Python 3",
   "language": "python",
   "name": "python3"
  },
  "language_info": {
   "codemirror_mode": {
    "name": "ipython",
    "version": 3
   },
   "file_extension": ".py",
   "mimetype": "text/x-python",
   "name": "python",
   "nbconvert_exporter": "python",
   "pygments_lexer": "ipython3",
   "version": "3.13.2"
  }
 },
 "nbformat": 4,
 "nbformat_minor": 2
}
