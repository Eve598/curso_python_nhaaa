{
 "cells": [
  {
   "cell_type": "code",
   "execution_count": 2,
   "metadata": {},
   "outputs": [
    {
     "name": "stdout",
     "output_type": "stream",
     "text": [
      "Me chamo Enzo Thaylor e meu imc é 18.04\n"
     ]
    }
   ],
   "source": [
    "nome = \"Enzo Thaylor\"\n",
    "altura = 1.73\n",
    "peso = 54\n",
    "imc = peso/altura**2\n",
    "\n",
    "print(f\"Me chamo {nome} e meu imc é {round(imc, 2)}\")"
   ]
  }
 ],
 "metadata": {
  "kernelspec": {
   "display_name": "Python 3",
   "language": "python",
   "name": "python3"
  },
  "language_info": {
   "codemirror_mode": {
    "name": "ipython",
    "version": 3
   },
   "file_extension": ".py",
   "mimetype": "text/x-python",
   "name": "python",
   "nbconvert_exporter": "python",
   "pygments_lexer": "ipython3",
   "version": "3.13.2"
  }
 },
 "nbformat": 4,
 "nbformat_minor": 2
}
