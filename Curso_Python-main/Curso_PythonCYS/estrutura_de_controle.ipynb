{
 "cells": [
  {
   "cell_type": "code",
   "execution_count": null,
   "metadata": {},
   "outputs": [
    {
     "name": "stdout",
     "output_type": "stream",
     "text": [
      "Entrou no if\n"
     ]
    }
   ],
   "source": [
    "sim = True\n",
    "nao = False\n",
    "\n",
    "if sim:\n",
    "    print(\"Entrou no if\")\n",
    "else:\n",
    "    print(\"Não entrou\")\n",
    "\n",
    "resto = 5%2"
   ]
  },
  {
   "cell_type": "code",
   "execution_count": null,
   "metadata": {},
   "outputs": [
    {
     "name": "stdout",
     "output_type": "stream",
     "text": [
      "O número 4 é Par\n"
     ]
    }
   ],
   "source": [
    "numero = int(input(\"Digite um número: \"))\n",
    "resto = numero%2\n",
    "\n",
    "if resto == 0:\n",
    "    print(f\"O número {numero} é Par\")\n",
    "else:\n",
    "    print(f\"O número {numero} é Ímpar\")\n",
    "\n",
    "# -----------------------\n",
    "\n",
    "# == igual á\n",
    "# != diferente de\n",
    "# < menor quer\n",
    "# > maior que\n",
    "# <= menor ou igual\n",
    "# >= maior ou igual\n",
    "\n",
    "#------------------------\n",
    "\n",
    "# a, b, c, d\n",
    "\n",
    "a = 3\n",
    "b = 1.5\n",
    "c = 12\n",
    "d = 8.10"
   ]
  },
  {
   "cell_type": "code",
   "execution_count": 8,
   "metadata": {},
   "outputs": [
    {
     "name": "stdout",
     "output_type": "stream",
     "text": [
      "A é maior que D\n"
     ]
    }
   ],
   "source": [
    "# a, b, c, d\n",
    "\n",
    "a = 8\n",
    "b = 5.5\n",
    "c = 7\n",
    "d = 3.70\n",
    "\n",
    "if a > d:\n",
    "    print(\"A é maior que D\")\n",
    "\n",
    "elif a < d:\n",
    "    print(\"A é menor que D\")\n",
    "\n",
    "elif a == d:\n",
    "    print(\"A é igual a D\")\n",
    "\n",
    "elif a != d:\n",
    "    print(\"A é diferente que D\")\n",
    "    "
   ]
  }
 ],
 "metadata": {
  "kernelspec": {
   "display_name": "Python 3",
   "language": "python",
   "name": "python3"
  },
  "language_info": {
   "codemirror_mode": {
    "name": "ipython",
    "version": 3
   },
   "file_extension": ".py",
   "mimetype": "text/x-python",
   "name": "python",
   "nbconvert_exporter": "python",
   "pygments_lexer": "ipython3",
   "version": "3.13.2"
  }
 },
 "nbformat": 4,
 "nbformat_minor": 2
}
