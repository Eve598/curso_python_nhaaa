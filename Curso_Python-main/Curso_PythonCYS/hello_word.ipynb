{
 "cells": [
  {
   "cell_type": "code",
   "execution_count": 6,
   "metadata": {},
   "outputs": [
    {
     "name": "stdout",
     "output_type": "stream",
     "text": [
      "Hello Word -- :D\n",
      "Enzo Thaylor\n",
      "10\n",
      "2\n",
      "64\n",
      "2.0\n",
      "64\n"
     ]
    }
   ],
   "source": [
    "print(\"Hello Word -- :D\")\n",
    "print(\"Enzo Thaylor\")\n",
    "\n",
    "# x, y, z\n",
    "\n",
    "x = 2\n",
    "y =8\n",
    "z =4\n",
    "\n",
    "# -------------------\n",
    "print(x + y) # adição\n",
    "print(z - x) # subtração\n",
    "print(y * y) # multiplicação\n",
    "print(z / x) # divisão\n",
    "print(y ** x) # potência"
   ]
  }
 ],
 "metadata": {
  "kernelspec": {
   "display_name": "Python 3",
   "language": "python",
   "name": "python3"
  },
  "language_info": {
   "codemirror_mode": {
    "name": "ipython",
    "version": 3
   },
   "file_extension": ".py",
   "mimetype": "text/x-python",
   "name": "python",
   "nbconvert_exporter": "python",
   "pygments_lexer": "ipython3",
   "version": "3.13.2"
  }
 },
 "nbformat": 4,
 "nbformat_minor": 2
}
